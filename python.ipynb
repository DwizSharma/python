{
 "cells": [
  {
   "cell_type": "code",
   "execution_count": 1,
   "metadata": {},
   "outputs": [
    {
     "name": "stdout",
     "output_type": "stream",
     "text": [
      "Hello world\n"
     ]
    }
   ],
   "source": [
    "# first basic program\n",
    "print(\"Hello world\")"
   ]
  },
  {
   "cell_type": "code",
   "execution_count": 3,
   "metadata": {},
   "outputs": [
    {
     "name": "stdout",
     "output_type": "stream",
     "text": [
      "sum of the numbers is :  40\n"
     ]
    }
   ],
   "source": [
    "# Program to calculate the sum of 2 numbers.\n",
    "a=int(input(\"Enter value of a : \"))\n",
    "b=int(input(\"Enter value of b : \"))\n",
    "(c)=a+b\n",
    "print(\"sum of the numbers is : \",c)"
   ]
  },
  {
   "cell_type": "code",
   "execution_count": 5,
   "metadata": {},
   "outputs": [
    {
     "name": "stdout",
     "output_type": "stream",
     "text": [
      "priting Jokes...\n",
      "What do you call a programmer from Finland? Nerdic.\n"
     ]
    }
   ],
   "source": [
    "#  Program to import the modules \n",
    "import pyjokes\n",
    "print(\"priting Jokes...\")\n",
    "# This prints a random jokes  \n",
    "joke = pyjokes.get_joke()\n",
    "print(joke)"
   ]
  },
  {
   "cell_type": "code",
   "execution_count": 7,
   "metadata": {},
   "outputs": [
    {
     "name": "stdout",
     "output_type": "stream",
     "text": [
      "value of temprature in fahreneit is :  98.6\n"
     ]
    }
   ],
   "source": [
    "#IDE : Integrated development enviroment \n",
    "# Program to calculate the F when C is provided .\n",
    "c=int(input(\"Enter value of temprature in celcius : \"))\n",
    "f=((9*(c))/5)+32\n",
    "print(\"value of temprature in fahreneit is : \",f)"
   ]
  },
  {
   "cell_type": "code",
   "execution_count": 16,
   "metadata": {},
   "outputs": [
    {
     "name": "stdout",
     "output_type": "stream",
     "text": [
      "3.0 2.0\n"
     ]
    }
   ],
   "source": [
    "# Factors of a Quadratic Eqaution\n",
    "a=int(input(\"Enter the coefficient of x^2 : \"))\n",
    "b=int(input(\"ENter the coefficient of x : \"))\n",
    "c=int(input(\"Enter the constant value : \"))\n",
    "d = (-b+((b**2)-4*a*c)**0.5)/2*a\n",
    "e = (-b-((b**2)-4*a*c)**0.5)/2*a\n",
    "print(d,e)"
   ]
  },
  {
   "cell_type": "code",
   "execution_count": 11,
   "metadata": {},
   "outputs": [
    {
     "name": "stdout",
     "output_type": "stream",
     "text": [
      "simple interest is :  0.01\n"
     ]
    }
   ],
   "source": [
    "# Simple interest in python\n",
    "a=int(input(\"Enter the value of principle : \"))\n",
    "b=int(input(\"Enter the vlaue of rate : \"))\n",
    "c=int(input(\"Enter the value of time : \"))\n",
    "SI= (a*b*c)/100\n",
    "print(\"simple interest is : \",SI)"
   ]
  },
  {
   "cell_type": "code",
   "execution_count": 12,
   "metadata": {},
   "outputs": [
    {
     "name": "stdout",
     "output_type": "stream",
     "text": [
      "Area of circle is :  28.26\n"
     ]
    }
   ],
   "source": [
    "# Area of circle in python\n",
    "a=int(input(\"Enter the value of radius : \"))\n",
    "area=3.14*(a**2)\n",
    "print(\"Area of circle is : \",area)"
   ]
  },
  {
   "cell_type": "code",
   "execution_count": null,
   "metadata": {},
   "outputs": [
    {
     "name": "stdout",
     "output_type": "stream",
     "text": [
      "perimeter of rectangle is :  8\n",
      "Area of rectangle is :  4\n"
     ]
    }
   ],
   "source": [
    "# perimeter of rectangle in python\n",
    "a=int(input(\"Enter the value of length : \"))\n",
    "b=int(input(\"Enter the value of breadth : \"))\n",
    "c=2*(a+b)\n",
    "d=a*b\n",
    "print(\"perimeter of rectangle is : \",c)\n",
    "print(\"Area of rectangle is : \",d)"
   ]
  },
  {
   "cell_type": "code",
   "execution_count": 19,
   "metadata": {},
   "outputs": [
    {
     "name": "stdout",
     "output_type": "stream",
     "text": [
      "value of a,b before swapping is :  20 10\n",
      "The value of a and b after swapping is  10 20\n"
     ]
    }
   ],
   "source": [
    "#swapping two numbers in python\n",
    "a=int(input(\"Enter the value of a : \"))\n",
    "b=int(input(\"Enter the value of b : \"))\n",
    "print(\"value of a,b before swapping is : \",a,b)\n",
    "a,b=b,a\n",
    "print(\"The value of a and b after swapping is \",a,b)"
   ]
  },
  {
   "cell_type": "code",
   "execution_count": 20,
   "metadata": {},
   "outputs": [
    {
     "name": "stdout",
     "output_type": "stream",
     "text": [
      "<class 'str'>\n",
      "<class 'str'>\n"
     ]
    }
   ],
   "source": [
    "a=input(\"Enter the string : \")\n",
    "print(type(a))\n",
    "b=input('Enter second string : ')\n",
    "print(type(b))"
   ]
  },
  {
   "cell_type": "code",
   "execution_count": 28,
   "metadata": {},
   "outputs": [
    {
     "name": "stdout",
     "output_type": "stream",
     "text": [
      "Hello world is good \n",
      " doog si dlrow olleH\n",
      "20\n",
      "l\n",
      "lo \n",
      "ood\n",
      "el ol sgo \n",
      "Hello world is good \n"
     ]
    }
   ],
   "source": [
    "#  program to do string slicing in python  \n",
    "\n",
    "a=input(\"Enter a string :\")\n",
    "print(a)\n",
    "# print the reverse of a string\n",
    "b=a[::-1]\n",
    "print(b)\n",
    "# print the lenght of A \n",
    "c=len(a)\n",
    "print(c)\n",
    "# print the slicing string\n",
    "print(a[3])\n",
    "# print slicing of the range 3 to 6\n",
    "print(a[3:6])\n",
    "# print slicing of the range -4 to -1\n",
    "print(a[-4:-1])\n",
    "# printing odd no of string character through string slicing \n",
    "print(a[1:len(a):2])\n",
    "# when a collen is remained empty it takes the value 0 \n",
    "print(a[:20])\n",
    "\n"
   ]
  },
  {
   "cell_type": "code",
   "execution_count": 4,
   "metadata": {},
   "outputs": [
    {
     "name": "stdout",
     "output_type": "stream",
     "text": [
      "<class 'list'>\n",
      "[10, 20, 30, 40]\n",
      "My name is Dwiz.\n",
      "Hello world.\n"
     ]
    }
   ],
   "source": [
    "# list\n",
    "l=[10,20,30,40]\n",
    "print(type(l))\n",
    "print(l)\n",
    "print(\"My name is Dwiz.\\nHello world.\")\n"
   ]
  },
  {
   "cell_type": "code",
   "execution_count": 11,
   "metadata": {},
   "outputs": [
    {
     "name": "stdout",
     "output_type": "stream",
     "text": [
      "{80, 20, 40, 10, 30}\n"
     ]
    }
   ],
   "source": [
    "set={10,20,30,10,20,20,40,20,80}\n",
    "print(set)"
   ]
  },
  {
   "cell_type": "code",
   "execution_count": 15,
   "metadata": {},
   "outputs": [
    {
     "name": "stdout",
     "output_type": "stream",
     "text": [
      "{34, 10, 12, 20, 30}\n"
     ]
    }
   ],
   "source": [
    "set={10,30,30}\n",
    "set.update([12,20,34])\n",
    "print(set)"
   ]
  },
  {
   "cell_type": "code",
   "execution_count": 31,
   "metadata": {},
   "outputs": [
    {
     "name": "stdout",
     "output_type": "stream",
     "text": [
      "[90, 20, 30, 40, 50, 60]\n",
      "[90, 20, 30, 40, 50, 60]\n",
      "[90, 20, 30, 40]\n",
      "[90, 20, 30, 40, 50, 60, 50]\n",
      "7\n",
      "[90, 20, 30, 50, 60]\n"
     ]
    }
   ],
   "source": [
    "# list \n",
    "l=[10,20,30,40,50,60]\n",
    "l[0]=90\n",
    "l2=l\n",
    "print(l)\n",
    "print(l2)\n",
    "print(l[:4])\n",
    "# append add element to the last \n",
    "l.append(50)\n",
    "print(l)\n",
    "# len gives the length of the list \n",
    "a=len(l)\n",
    "print(a)\n",
    "# removes the last of the element \n",
    "l.pop()\n",
    "# removes the desired element \n",
    "l.remove(40)\n",
    "print(l)"
   ]
  },
  {
   "cell_type": "code",
   "execution_count": 33,
   "metadata": {},
   "outputs": [
    {
     "name": "stdout",
     "output_type": "stream",
     "text": [
      "(10, 20, 10, 30)\n",
      "<class 'tuple'>\n",
      "4\n"
     ]
    }
   ],
   "source": [
    "# tuple\n",
    "t=(10,20,10,30)\n",
    "print(t)\n",
    "print(type(t))\n",
    "print(len(t))\n",
    "#immutable : cannot be changed so functions are not given .\n"
   ]
  },
  {
   "cell_type": "code",
   "execution_count": 36,
   "metadata": {},
   "outputs": [
    {
     "name": "stdout",
     "output_type": "stream",
     "text": [
      "<class 'dict'>\n",
      "<class 'set'>\n",
      "{20, 30, 40, 10, 78}\n",
      "{20, 70, 39, 40, 10, 30}\n"
     ]
    }
   ],
   "source": [
    "# set\n",
    "a={}\n",
    "print(type(a))\n",
    "s={10,20,30,20,40,78}\n",
    "print(type(s))\n",
    "print(s)\n",
    "s1={10,20,30,40,30,30,40,70,39}\n",
    "print(s1)"
   ]
  },
  {
   "cell_type": "code",
   "execution_count": 41,
   "metadata": {},
   "outputs": [
    {
     "name": "stdout",
     "output_type": "stream",
     "text": [
      "{'a': 10, 'b': 39, 'c': 30, 'v': 10}\n"
     ]
    }
   ],
   "source": [
    "# Dictionary \n",
    "d={'a':10,'b':20,'c':30,'v':10}\n",
    "d['b']=39\n",
    "print(d)"
   ]
  },
  {
   "cell_type": "code",
   "execution_count": 45,
   "metadata": {},
   "outputs": [
    {
     "name": "stdout",
     "output_type": "stream",
     "text": [
      "a!=b\n"
     ]
    }
   ],
   "source": [
    "# Boolean(True,False,None)\n",
    "a=(1,2,3,4,5)\n",
    "b={1,2,3,4,5,6}\n",
    "if(a==b==True):\n",
    "    print(\"a=b\")\n",
    "else:\n",
    "    print(\"a!=b\")"
   ]
  },
  {
   "cell_type": "code",
   "execution_count": 52,
   "metadata": {},
   "outputs": [
    {
     "name": "stdout",
     "output_type": "stream",
     "text": [
      " this function add two numbers \n",
      " this prints hello \n",
      "Hello\n"
     ]
    }
   ],
   "source": [
    "def add(x,y):\n",
    "    \"\"\" this function add two numbers \"\"\"\n",
    "    c=x+y\n",
    "    print(c)\n",
    "print(add.__doc__)\n",
    "def greet():\n",
    "    \"\"\"\n",
    "    Prints a greeting message.\n",
    "\n",
    "    This function prints the word \"Hello\" to the console.\n",
    "    \"\"\"\n",
    "    \"\"\" this prints hello \"\"\"\n",
    "    print(\"Hello\")\n",
    "print(greet.__doc__)\n",
    "greet()"
   ]
  },
  {
   "cell_type": "code",
   "execution_count": null,
   "metadata": {},
   "outputs": [
    {
     "name": "stdout",
     "output_type": "stream",
     "text": [
      "30\n",
      "10\n",
      "2.0\n",
      "2\n",
      "0\n",
      "200\n"
     ]
    }
   ],
   "source": [
    "a=int(input(\"Enter a Number : \"))\n",
    "b=int(input(\"Enter second Number : \"))\n",
    "print(a+b)\n",
    "print(a-b)\n",
    "print(a/b)\n",
    "print(a//b)\n",
    "print(a%b)\n",
    "print(a*b)\n",
    "print(a**b)"
   ]
  },
  {
   "cell_type": "code",
   "execution_count": 4,
   "metadata": {},
   "outputs": [
    {
     "name": "stdout",
     "output_type": "stream",
     "text": [
      "True\n",
      "False\n",
      "False\n",
      "True\n"
     ]
    }
   ],
   "source": [
    "l=(10,20,30,40,50)\n",
    "print(10 in l)\n",
    "print(70 in l)\n",
    "print(10 not in l)\n",
    "\n",
    "print(70 not in l)"
   ]
  },
  {
   "cell_type": "code",
   "execution_count": 11,
   "metadata": {},
   "outputs": [
    {
     "name": "stdout",
     "output_type": "stream",
     "text": [
      "-0b10100\n",
      "0b110100\n",
      "67\n"
     ]
    }
   ],
   "source": [
    "# bitwise operator \n",
    "print(bin(-20))\n",
    "print(bin(52))\n",
    "print(ord(\"C\"))\n"
   ]
  },
  {
   "cell_type": "code",
   "execution_count": 18,
   "metadata": {},
   "outputs": [
    {
     "name": "stdout",
     "output_type": "stream",
     "text": [
      "40\n",
      "80\n",
      "160\n",
      "36\n",
      "72\n"
     ]
    }
   ],
   "source": [
    "# Right shift\n",
    "print(20<<1)\n",
    "print(20<<2)\n",
    "print(20<<3)\n",
    "print(18<<1)\n",
    "print(18<<2)"
   ]
  },
  {
   "cell_type": "code",
   "execution_count": 20,
   "metadata": {},
   "outputs": [
    {
     "name": "stdout",
     "output_type": "stream",
     "text": [
      "10\n",
      "5\n",
      "2\n",
      "9\n",
      "4\n"
     ]
    }
   ],
   "source": [
    "# left shift\n",
    "print(20>>1)\n",
    "print(20>>2)\n",
    "print(20>>3)\n",
    "print(19>>1)\n",
    "print(19>>2)"
   ]
  },
  {
   "cell_type": "code",
   "execution_count": 21,
   "metadata": {},
   "outputs": [
    {
     "name": "stdout",
     "output_type": "stream",
     "text": [
      "30\n"
     ]
    }
   ],
   "source": [
    "a=10+20\n",
    "print(a)\n"
   ]
  },
  {
   "cell_type": "code",
   "execution_count": 8,
   "metadata": {},
   "outputs": [
    {
     "name": "stdout",
     "output_type": "stream",
     "text": [
      "o\n",
      "Hi,Hello how are you ?\n",
      "Wow\n",
      "Wow\n",
      "Wow\n",
      "Wow\n",
      "Wow\n",
      "\n"
     ]
    }
   ],
   "source": [
    "# Program to traversing a string \n",
    "a=\"Hello\"\n",
    "print(a[4])\n",
    "# program to concatinate \n",
    "b= print(\"Hi,\"+\"Hello \"+\"how\"+\" are\"+\" you ?\")\n",
    "#program to appending \n",
    "# c= print(\"Hi\"\"Hello\")\n",
    "# program to multiply the string\n",
    "d=print(\"Wow\\n\"*5)"
   ]
  },
  {
   "cell_type": "code",
   "execution_count": 34,
   "metadata": {},
   "outputs": [
    {
     "name": "stdout",
     "output_type": "stream",
     "text": [
      "The name of the person is Ashish and the age of the  person is 19\n",
      "Vikrant was dumped by Shivanya on 21 January 2025 by not responding.\n",
      "Y\n",
      "NOHTYP\n",
      "O\n",
      "PYTH\n",
      "Y\n",
      "Aman asked \"How are you ?\"\n"
     ]
    }
   ],
   "source": [
    "# string formatting operator\n",
    "name=\"Ashish\"\n",
    "age= 19\n",
    "name1=\"Vikrant\"\n",
    "name2=\"Shivanya\" \n",
    "print(\"The name of the person is %s and the age of the  person is %d\"%(name,age )) \n",
    "print(\"%s was dumped by %s on 21 January 2025 by not responding.\"%(name1,name2))\n",
    "\n",
    "str=\"PYTHON\"\n",
    "print(str[1:2])\n",
    "print(str[::-1])\n",
    "print(str[-2])\n",
    "print(str[:-2])\n",
    "print(str[1])\n",
    "txt = \"Aman asked \\\"How are you ?\\\"\"\n",
    "print(txt)\n",
    "# \\\\ these are called escape character and help us to escape the sequencial processing of the program \n",
    "# and escape the sequal . "
   ]
  },
  {
   "cell_type": "code",
   "execution_count": 36,
   "metadata": {},
   "outputs": [
    {
     "name": "stdout",
     "output_type": "stream",
     "text": [
      "True\n",
      "False\n",
      "True\n",
      "True\n",
      "True\n"
     ]
    }
   ],
   "source": [
    "# comparingm assci values \n",
    "print(\"ABC\"==\"ABC\")\n",
    "print(\"Abc\"!=\"Abc\")\n",
    "print(\"ABC\"<\"aBC\")\n",
    "print(\"aBc\">\"aBC\")\n",
    "print(\"Abc\">=\"Abc\")"
   ]
  },
  {
   "cell_type": "code",
   "execution_count": 60,
   "metadata": {},
   "outputs": [
    {
     "name": "stdout",
     "output_type": "stream",
     "text": [
      "How are you .\n",
      " how do you do .\n",
      "how are you .\n",
      "****************************************** how do you do .******************************************\n",
      "2\n",
      "2\n",
      "False\n",
      "False\n",
      "False\n",
      "False\n",
      "False\n",
      "False\n",
      "H.o.w. .a.r.e. .y.o.u. ..\n",
      "['How', 'are', 'you', '.']\n",
      "['How', 'are', 'you', '.']\n"
     ]
    }
   ],
   "source": [
    "#Strign methods\n",
    "# capitalize\n",
    "a = \"How are you .\"\n",
    "b = \" how do you do .\"\n",
    "print(a.capitalize())\n",
    "print(b.capitalize())\n",
    "# casefold\n",
    "print(a.casefold())\n",
    "#center\n",
    "print(b.center(100,\"*\"))\n",
    "#count\n",
    "print(a.count(\"o\"))\n",
    "#index\n",
    "print(a.index(\"w\"))\n",
    "#isalnum\n",
    "print(a.isalnum())\n",
    "#isalpha\n",
    "print(a.isalpha())\n",
    "#isdecimal\n",
    "print(a.isdecimal())\n",
    "#isdigit\n",
    "print(a.isdigit())\n",
    "#islower\n",
    "print(a.islower())\n",
    "#isupper\n",
    "print(a.isupper())\n",
    "#join()\n",
    "print(\".\".join(a))\n",
    "#split()\n",
    "print(a.split())\n",
    "#rsplit()\n",
    "print(a.rsplit())"
   ]
  },
  {
   "cell_type": "code",
   "execution_count": 63,
   "metadata": {},
   "outputs": [
    {
     "name": "stdout",
     "output_type": "stream",
     "text": [
      "['10', '20', '30']\n",
      "60\n"
     ]
    }
   ],
   "source": [
    "# Add three numbers by using a string function .\n",
    "a=input(\"Enter 3 numbers seperated by space : \")\n",
    "b=a.split()\n",
    "print(b)\n",
    "sum=int(b[0])+int(b[1])+int(b[2])\n",
    "print(sum)"
   ]
  },
  {
   "cell_type": "code",
   "execution_count": 68,
   "metadata": {},
   "outputs": [
    {
     "name": "stdout",
     "output_type": "stream",
     "text": [
      "{'a': 10, 'b': 20, 'c': 30, 'd': 40, 'e': 50}\n"
     ]
    }
   ],
   "source": [
    "# zip function is used to convert the lists into dictionary \n",
    "l1=[\"a\",\"b\",\"c\",\"d\",\"e\"]\n",
    "l2=[10,20,30,40,50]\n",
    "a=zip(l1,l2)\n",
    "print(dict(a))\n",
    "\n"
   ]
  },
  {
   "cell_type": "code",
   "execution_count": 71,
   "metadata": {},
   "outputs": [
    {
     "name": "stdout",
     "output_type": "stream",
     "text": [
      "10\n",
      "20\n",
      "30\n",
      "60\n"
     ]
    }
   ],
   "source": [
    "a=int(input())\n",
    "b=int(input())\n",
    "c=int(input())\n",
    "print(a)\n",
    "print(b)\n",
    "print(c)\n",
    "print(a+b+c)"
   ]
  },
  {
   "cell_type": "code",
   "execution_count": 2,
   "metadata": {},
   "outputs": [
    {
     "name": "stdout",
     "output_type": "stream",
     "text": [
      "A\n",
      "D\n"
     ]
    }
   ],
   "source": [
    "# conditional statement \n",
    "#  if statements \n",
    "print(\"A\")\n",
    "if(5>2):\n",
    "    print(\"B\")\n",
    "    print(\"C\")\n",
    "print(\"D\")"
   ]
  },
  {
   "cell_type": "code",
   "execution_count": 3,
   "metadata": {},
   "outputs": [
    {
     "name": "stdout",
     "output_type": "stream",
     "text": [
      "The first number is greater than the second.\n"
     ]
    }
   ],
   "source": [
    "# Nested if \n",
    "a=int(input(\"Enter a Number : \"))\n",
    "b=int(input(\"Enter second Number : \"))\n",
    "if(a>b):\n",
    "    print(\"The first number is greater than the second.\")\n",
    "if(b>a):\n",
    "    print(\"The second number is grater than the first.\")"
   ]
  },
  {
   "cell_type": "code",
   "execution_count": 9,
   "metadata": {},
   "outputs": [
    {
     "name": "stdout",
     "output_type": "stream",
     "text": [
      "The given age is : 12\n",
      "Your are not eligible for vote .\n"
     ]
    }
   ],
   "source": [
    "#program to check if  aperson is eligible for vote\n",
    "a=int(input(\"Enter your age : \"))\n",
    "print(\"The given age is :\",a)\n",
    "if(a>=18):\n",
    "    print(\"You are eligible for vote .\")\n",
    "else:\n",
    "    print(\"Your are not eligible for vote .\") # else statement is executed if the 'if statement' is not justified . \n"
   ]
  },
  {
   "cell_type": "code",
   "execution_count": null,
   "metadata": {},
   "outputs": [
    {
     "name": "stdout",
     "output_type": "stream",
     "text": [
      "The number to check the condition is : 12\n",
      "The given number is even .\n",
      "12 is even\n"
     ]
    }
   ],
   "source": [
    "# program to check if the number is even or odd\n",
    "a=int(input(\"Enter the number which you want to check : \"))\n",
    "print(\"The number to check the condition is :\",a)\n",
    "if(a%2==0):\n",
    "    print(\"The given number is even .\")\n",
    "    print(a,\"is even\")\n",
    "else:\n",
    "    print(\"The given number is odd .\")\n",
    "    print(b,\"is odd\" )\n",
    "\n"
   ]
  },
  {
   "cell_type": "code",
   "execution_count": 23,
   "metadata": {},
   "outputs": [
    {
     "name": "stdout",
     "output_type": "stream",
     "text": [
      "The Numbers Entered are : 234 345\n",
      "345 is the greatest among both.\n"
     ]
    }
   ],
   "source": [
    "# program to decide the greatest no among three no \n",
    "a=int(input(\"Enter first Number :\"))\n",
    "b=int(input(\"Enter second Number :\"))\n",
    "print(\"The Numbers Entered are :\",a,b)\n",
    "if(a>b):\n",
    "    print(a,\"is the greatest no among both.\")\n",
    "else:\n",
    "    print(b,\"is the greatest among both.\")"
   ]
  },
  {
   "cell_type": "code",
   "execution_count": 26,
   "metadata": {},
   "outputs": [
    {
     "name": "stdout",
     "output_type": "stream",
     "text": [
      "max= 234\n"
     ]
    }
   ],
   "source": [
    "n1=int(input(\"n1: \"))\n",
    "n2=int(input(\"n2: \"))\n",
    "max=0\n",
    "if(n1>n2):\n",
    "    max=n1\n",
    "if(n1<n2):\n",
    "    max=n2\n",
    "print(\"max=\",max)"
   ]
  },
  {
   "cell_type": "code",
   "execution_count": 29,
   "metadata": {},
   "outputs": [
    {
     "name": "stdout",
     "output_type": "stream",
     "text": [
      "The given numbers are : 20 10 30\n",
      "10 is the minimum number .\n"
     ]
    }
   ],
   "source": [
    "# if-elif-else \n",
    "a=int(input(\"Enter first Number :\"))\n",
    "b=int(input(\"Enter second Number :\"))\n",
    "c=int(input(\"Enter third Number :\"))\n",
    "print(\"The given numbers are :\",a,b,c)\n",
    "if(a>b):\n",
    "    if(a>c):\n",
    "        print(c,\"is the minimum number .\")\n",
    "    else:\n",
    "        print(b,\"is the minimum number .\")\n",
    "else:\n",
    "    print(a,\"is the minimum number .\")\n"
   ]
  },
  {
   "cell_type": "code",
   "execution_count": 32,
   "metadata": {},
   "outputs": [
    {
     "name": "stdout",
     "output_type": "stream",
     "text": [
      "10 is min\n"
     ]
    }
   ],
   "source": [
    "# write a program to find min among three numbers\n",
    "a=int(input(\"Enter n1 :\"))\n",
    "b=int(input(\"Enter n2 :\"))\n",
    "c=int(input(\"Enter n3 :\"))\n",
    "if(a<b and a<c):\n",
    "    print(a,\"is min\")\n",
    "elif(b<c):\n",
    "    print(b,\"is min\")\n",
    "else:\n",
    "    print(c,\"is min\")"
   ]
  },
  {
   "cell_type": "code",
   "execution_count": 36,
   "metadata": {},
   "outputs": [
    {
     "name": "stdout",
     "output_type": "stream",
     "text": [
      "The given no was : -23\n",
      "The given number is Invalid.\n"
     ]
    }
   ],
   "source": [
    "# check no is even or odd for possitive numbers otherwise print invalid no \n",
    "a=int(input(\"Enter a Number :\"))\n",
    "print(\"The given no was :\",a)\n",
    "if(a<0):\n",
    "    print(\"The given number is Invalid.\")\n",
    "else:\n",
    "    if(a%2==0):\n",
    "        print(a,\"is even\")\n",
    "    else:\n",
    "        print(a,\"is odd.\")"
   ]
  },
  {
   "cell_type": "code",
   "execution_count": 39,
   "metadata": {},
   "outputs": [
    {
     "name": "stdout",
     "output_type": "stream",
     "text": [
      "The total marks obtained is : 368\n",
      "The percentage obtained is : 73.6\n",
      "The grade obtained is B+\n"
     ]
    }
   ],
   "source": [
    "#program to calculate the grade \n",
    "a=int(input(\"Enter the marks of physics :\"))\n",
    "b=int(input(\"Enter the marks of chemistry :\"))\n",
    "c=int(input(\"Enter the marks of maths :\"))\n",
    "d=int(input(\"Enter the marks of English:\"))\n",
    "e=int(input(\"Enter the marks of computer :\"))\n",
    "total=a+b+c+d+e\n",
    "percentage=(total/5)\n",
    "print(\"The total marks obtained is :\",total)\n",
    "print(\"The percentage obtained is :\",percentage)\n",
    "if(percentage>=90):\n",
    "    print(\"The grade obtained is A+\")\n",
    "elif(percentage>=80):\n",
    "    print(\"The grade obtained is A\")\n",
    "elif(percentage>=70):\n",
    "    print(\"The grade obtained is B+\")\n",
    "elif(percentage>=60):\n",
    "    print(\"The grade obtained is B\")\n",
    "elif(percentage>=50):\n",
    "    print(\"The grade obtained is C+\")\n",
    "elif(percentage>=40):\n",
    "    print(\"The grade obtained is C\")\n",
    "elif(percentage>=34):\n",
    "    print(\"The grade obtained is D\")\n",
    "else:\n",
    "    print(\"You are failed.\")"
   ]
  },
  {
   "cell_type": "code",
   "execution_count": 41,
   "metadata": {},
   "outputs": [
    {
     "name": "stdout",
     "output_type": "stream",
     "text": [
      "The string is : what is your name \n",
      "The no of vowels in the string is : 6\n"
     ]
    }
   ],
   "source": [
    "# program to caculate the no of vowels and no of consonants in a string\n",
    "a=input(\"Enter a string : \")\n",
    "vowels=0\n",
    "consonants=0\n",
    "print(\"The string is :\",a)\n",
    "for i in a:\n",
    "    if(i==\"a\" or i==\"e\" or i==\"i\" or i==\"o\" or i==\"u\"):\n",
    "        vowels+=1\n",
    "    else:\n",
    "        consonants+=1\n",
    "print(\"The no of vowels in the string is :\",vowels)"
   ]
  },
  {
   "cell_type": "code",
   "execution_count": 2,
   "metadata": {},
   "outputs": [
    {
     "name": "stdout",
     "output_type": "stream",
     "text": [
      "Invalid ranking\n"
     ]
    }
   ],
   "source": [
    "# Ranking \n",
    "a=int(input(\"Enter a Rank :\"))\n",
    "if(a==0):\n",
    "    print(\"Poor\")\n",
    "elif(a==1):\n",
    "    print(\"Good\")\n",
    "elif(a==2):\n",
    "    print(\"Excellent\")\n",
    "elif(a==3):\n",
    "    print(\"Outstanding\")\n",
    "else:\n",
    "    print(\"Invalid ranking\")"
   ]
  },
  {
   "cell_type": "code",
   "execution_count": 3,
   "metadata": {},
   "outputs": [
    {
     "name": "stdout",
     "output_type": "stream",
     "text": [
      "Palindrome.\n"
     ]
    }
   ],
   "source": [
    "# Palindrome\n",
    "a=12221\n",
    "b=str(a)\n",
    "b=b[::-1]\n",
    "c=int(b)\n",
    "if(a==c):\n",
    "    print(\"Palindrome.\")\n",
    "else:\n",
    "    print(\"Not Palindrome.\")\n"
   ]
  },
  {
   "cell_type": "code",
   "execution_count": 4,
   "metadata": {},
   "outputs": [
    {
     "name": "stdout",
     "output_type": "stream",
     "text": [
      "your is present in what is your name\n"
     ]
    }
   ],
   "source": [
    "str1=input(\"string:\")\n",
    "str2=input(\"char :\")\n",
    "if(str2 in str1):\n",
    "    print(str2,\"is present in\",str1)\n",
    "else:\n",
    "    print(str2,\"is not present in\",str1)"
   ]
  },
  {
   "cell_type": "code",
   "execution_count": 3,
   "metadata": {},
   "outputs": [
    {
     "name": "stdout",
     "output_type": "stream",
     "text": [
      "0o173\n",
      "0b1111011\n",
      "0x7b\n"
     ]
    }
   ],
   "source": [
    "# octagonal conversion ; binary conversion ; hexadecimal converion\n",
    "print(oct(123))\n",
    "print(bin(123))\n",
    "print(hex(123))"
   ]
  },
  {
   "cell_type": "code",
   "execution_count": 3,
   "metadata": {},
   "outputs": [
    {
     "name": "stdout",
     "output_type": "stream",
     "text": [
      "0\n",
      "1\n",
      "2\n",
      "3\n",
      "4\n",
      "5\n",
      "6\n",
      "7\n",
      "8\n",
      "9\n"
     ]
    }
   ],
   "source": [
    "for i in range(10):\n",
    "    print(i)"
   ]
  },
  {
   "cell_type": "code",
   "execution_count": 5,
   "metadata": {},
   "outputs": [
    {
     "name": "stdout",
     "output_type": "stream",
     "text": [
      "12345678910"
     ]
    }
   ],
   "source": [
    "# printing 1 to 10 without excaping lines\n",
    "print(\"1\",end=\"\")\n",
    "print(\"2\",end=\"\")\n",
    "print(\"3\",end=\"\")\n",
    "print(\"4\",end=\"\")\n",
    "print(\"5\",end=\"\")\n",
    "print(\"6\",end=\"\")\n",
    "print(\"7\",end=\"\")\n",
    "print(\"8\",end=\"\")\n",
    "print(\"9\",end=\"\")\n",
    "print(\"10\",end=\"\")"
   ]
  },
  {
   "cell_type": "code",
   "execution_count": 12,
   "metadata": {},
   "outputs": [
    {
     "name": "stdout",
     "output_type": "stream",
     "text": [
      "0 1 2 3 4 5 6 7 8 9 10 "
     ]
    }
   ],
   "source": [
    "# While loop\n",
    "# program to print 1 to 10 \n",
    "\n",
    "\n",
    "i=0  # initialization\n",
    "\n",
    "while(i<=10):   # condition\n",
    "\n",
    "    print( i,end=\" \")   #statement\n",
    "    i += 1 #increment\n"
   ]
  },
  {
   "cell_type": "code",
   "execution_count": 13,
   "metadata": {},
   "outputs": [
    {
     "name": "stdout",
     "output_type": "stream",
     "text": [
      "20 18 16 14 12 10 8 6 4 2 0 "
     ]
    }
   ],
   "source": [
    "i=20    #initialization\n",
    "while(i>=0):    #condition\n",
    "    print(i,end=\" \")    #statement\n",
    "    i=i-2   #decrement by 2"
   ]
  },
  {
   "cell_type": "code",
   "execution_count": null,
   "metadata": {},
   "outputs": [
    {
     "name": "stdout",
     "output_type": "stream",
     "text": [
      "Not a Perfect Number\n"
     ]
    }
   ],
   "source": [
    "# Program to check a perfect number \n",
    "n=int(input(\"Enter a Number : \"))\n",
    "a= []\n",
    "for i in range(n):\n",
    "    if(i==0):\n",
    "        continue\n",
    "    if(n%i==0):\n",
    "        a.append(i)\n",
    "sum=0\n",
    "for i in a:\n",
    "    sum+=i\n",
    "if(sum == n):\n",
    "    print(\"Perfect Number\")\n",
    "else:\n",
    "    print(\"Not a Perfect Number\")  "
   ]
  },
  {
   "cell_type": "code",
   "execution_count": 22,
   "metadata": {},
   "outputs": [
    {
     "name": "stdout",
     "output_type": "stream",
     "text": [
      "153 is an Armstrong number\n"
     ]
    }
   ],
   "source": [
    "# program to check the armstrong no\n",
    "n=int(input(\"Enter a Number :\"))\n",
    "sum = 0\n",
    "temp = n\n",
    "order = len(str(n))\n",
    "while temp > 0:\n",
    "    digit = temp % 10\n",
    "    sum += digit ** order\n",
    "    temp //= 10\n",
    "if n == sum:\n",
    "    print(n, \"is an Armstrong number\")\n",
    "else:\n",
    "    print(n, \"is not an Armstrong number\")"
   ]
  },
  {
   "cell_type": "code",
   "execution_count": 35,
   "metadata": {},
   "outputs": [
    {
     "name": "stdout",
     "output_type": "stream",
     "text": [
      "The given number is prime.\n"
     ]
    }
   ],
   "source": [
    "# program to check if a number is prime .\n",
    "n=int(input(\"Enter a Number :\"))\n",
    "prime = False\n",
    "if(n<1):\n",
    "    print(\"Number is Invalid\")\n",
    "    exit (0)\n",
    "for i in range(n):\n",
    "    if(i==0 or i==1):\n",
    "        continue\n",
    "    if(n % i == 0):\n",
    "        prime=True\n",
    "if(not prime):\n",
    "    print(\"The given number is prime.\")\n",
    "else:\n",
    "    print(\"The given number is composite.\")"
   ]
  },
  {
   "cell_type": "code",
   "execution_count": null,
   "metadata": {},
   "outputs": [
    {
     "name": "stdout",
     "output_type": "stream",
     "text": [
      "5 is prime.\n"
     ]
    }
   ],
   "source": [
    "# program to check if a number is prime . \n",
    "n=int(input(\"Enter a Number :\"))\n",
    "i=2\n",
    "j=0\n",
    "while(i<=2):\n",
    "    if(n%i==0):\n",
    "        j=1\n",
    "    i=i+1\n",
    "if(j==0):\n",
    "    print(n,\"is prime.\")\n",
    "else:\n",
    "    print(n,\"is not prime.\")"
   ]
  },
  {
   "cell_type": "code",
   "execution_count": 43,
   "metadata": {},
   "outputs": [
    {
     "name": "stdout",
     "output_type": "stream",
     "text": [
      "Factorial of given number is 120\n"
     ]
    }
   ],
   "source": [
    "# Program to check for factorial\n",
    "prod = 1\n",
    "if(n<1):\n",
    "    print(\"Factorial of given number is 1\")\n",
    "    exit(0)\n",
    "while(i<= n):\n",
    "    prod *= i\n",
    "    i+=1\n",
    "print(\"Factorial of given number is\",prod)"
   ]
  },
  {
   "cell_type": "code",
   "execution_count": 44,
   "metadata": {},
   "outputs": [
    {
     "name": "stdout",
     "output_type": "stream",
     "text": [
      "Reverese of 121 is 121\n",
      "Sum of digits of 121 is 4\n",
      "Number of digits of 121 is 3\n"
     ]
    }
   ],
   "source": [
    "# Program to get reverse of a number \n",
    "# Program to get sum of the digit \n",
    "# program to get the no of digits \n",
    "n = 121\n",
    "a = n\n",
    "m = n\n",
    "digits = 0\n",
    "while a > 0:\n",
    "    digits += 1\n",
    "    a = a//10\n",
    "\n",
    "sum = 0\n",
    "# print(\"digits :\",digits)\n",
    "# print(\"n\",n)\n",
    "while n > 0:\n",
    "    sum += (n%10) \n",
    "    n = n//10\n",
    "\n",
    "rev = str(m)[::-1]\n",
    "print(\"Reverese of\",m,\"is\",rev)\n",
    "print(\"Sum of digits of\",m,\"is\",sum)\n",
    "print(\"Number of digits of\",m,\"is\",digits)"
   ]
  },
  {
   "cell_type": "code",
   "execution_count": 1,
   "metadata": {},
   "outputs": [
    {
     "name": "stdout",
     "output_type": "stream",
     "text": [
      "0 1 1 2 3 5 8 13 21 34 "
     ]
    }
   ],
   "source": [
    "# Fibonacci Series \n",
    "\n",
    "n = int(input(\"Enter n : \"))\n",
    "i = 0 \n",
    "j = 1 \n",
    "k = 1\n",
    "while n >= k:\n",
    "    print(i, end=\" \")\n",
    "    i, j = j, i + j\n",
    "    k += 1"
   ]
  },
  {
   "cell_type": "code",
   "execution_count": 6,
   "metadata": {},
   "outputs": [
    {
     "name": "stdout",
     "output_type": "stream",
     "text": [
      "0 1 1 2 3 5 8 13 21 34 55 "
     ]
    }
   ],
   "source": [
    "# Fibonacci series\n",
    "n=int(input(\"N :\"))\n",
    "i,j = 0,1\n",
    "k=i+j\n",
    "print(i,j,end=\" \")\n",
    "l=2\n",
    "while(l<=n):\n",
    "    print(k,end=\" \")\n",
    "    i=j\n",
    "    j=k\n",
    "    k=i+j\n",
    "    l=l+1"
   ]
  },
  {
   "cell_type": "code",
   "execution_count": 13,
   "metadata": {},
   "outputs": [
    {
     "name": "stdout",
     "output_type": "stream",
     "text": [
      "sum of digits : 4\n",
      "no of digits : 5\n",
      "reverse of the number : 21001\n",
      "Not Palindrome\n"
     ]
    }
   ],
   "source": [
    "# Reverse of a Number \n",
    "n=int(input(\"Enter a Number : \"))\n",
    "sd=nd=rn=0\n",
    "n1=n\n",
    "while(n>0):\n",
    "    sd=sd+n%10\n",
    "    nd=nd+1\n",
    "    rn=(rn*10)+n%10\n",
    "    n=n//10\n",
    "print(\"sum of digits :\",sd)\n",
    "print(\"no of digits :\",nd)\n",
    "print(\"reverse of the number :\",rn)\n",
    "if(n1==rn):\n",
    "    print(\"Palindrome\")\n",
    "else:\n",
    "    print(\"Not Palindrome\")"
   ]
  },
  {
   "cell_type": "code",
   "execution_count": 22,
   "metadata": {},
   "outputs": [
    {
     "name": "stdout",
     "output_type": "stream",
     "text": [
      "10 0\n",
      "20 1\n",
      "30 2\n",
      "40 3\n",
      "50 4\n",
      "60 5\n",
      "70 6\n",
      "80 7\n",
      "90 8\n"
     ]
    }
   ],
   "source": [
    "# for loops \n",
    "l1=[10,20,30,40,50,60,70,80,90,100]\n",
    "for i in range(9):\n",
    "    print(l1[i],end=\" \") \n",
    "    print(i,)"
   ]
  },
  {
   "cell_type": "code",
   "execution_count": 17,
   "metadata": {},
   "outputs": [
    {
     "name": "stdout",
     "output_type": "stream",
     "text": [
      "1 2 3 4 5 6 7 8 9 10 "
     ]
    }
   ],
   "source": [
    "# write a program to print numbers till 10\n",
    "for i in range(1,11):\n",
    "    print(i,end=\" \")"
   ]
  },
  {
   "cell_type": "code",
   "execution_count": 7,
   "metadata": {},
   "outputs": [
    {
     "name": "stdout",
     "output_type": "stream",
     "text": [
      "1 \n",
      "* * \n",
      "1 2 3 \n",
      "* * * * \n",
      "1 2 3 4 5 \n"
     ]
    }
   ],
   "source": [
    "\"\"\"\n",
    "1\n",
    "* *\n",
    "1 2 3\n",
    "* * * *\n",
    "1 2 3 4 5\n",
    "\"\"\"\n",
    "n = int(input(\"Enter a number: \"))\n",
    "i = 1\n",
    "\n",
    "while(i<=n):\n",
    "    j = 1\n",
    "    while(j<=i):\n",
    "        if(i%2 == 0):\n",
    "            print(\"*\",end=\" \")\n",
    "        else:\n",
    "            print(j,end=\" \")\n",
    "        j+=1\n",
    "    print()\n",
    "    i+=1"
   ]
  },
  {
   "cell_type": "code",
   "execution_count": 8,
   "metadata": {},
   "outputs": [
    {
     "name": "stdout",
     "output_type": "stream",
     "text": [
      "1 \n",
      "1 * \n",
      "1 * 3 \n",
      "1 * 3 * \n",
      "1 * 3 * 5 \n"
     ]
    }
   ],
   "source": [
    "\"\"\"\n",
    "1\n",
    "1 *\n",
    "1 * 3\n",
    "1 * 3 *\n",
    "1 * 3 * 5\n",
    "\"\"\"\n",
    "n = int(input(\"Enter a number: \"))\n",
    "i = 1\n",
    "\n",
    "while(i<=n):\n",
    "    j = 1\n",
    "    while(j<=i):\n",
    "        if(j%2 == 0):\n",
    "            print(\"*\",end=\" \")\n",
    "        else:\n",
    "            print(j,end=\" \")\n",
    "        j+=1\n",
    "    print()\n",
    "    i+=1"
   ]
  },
  {
   "cell_type": "code",
   "execution_count": 3,
   "metadata": {},
   "outputs": [
    {
     "name": "stdout",
     "output_type": "stream",
     "text": [
      "5 4 3 2 1 \n",
      "4 3 2 1 2 \n",
      "3 2 1 2 3 \n",
      "2 1 2 3 4 \n",
      "1 2 3 4 5 \n"
     ]
    }
   ],
   "source": [
    "\"\"\"\n",
    "5 4 3 2 1\n",
    "4 3 2 1 2\n",
    "3 2 1 2 3\n",
    "2 1 2 3 4\n",
    "1 2 3 4 5\n",
    "\"\"\"\n",
    "n = int(input(\"Enter a number: \"))\n",
    "c = 0\n",
    "i = 0\n",
    "while(i<n):\n",
    "    j=n\n",
    "    while(j>i):\n",
    "        print(j-c,end=\" \")\n",
    "        j-=1\n",
    "    k=1\n",
    "    while(k<=i):\n",
    "        print(k+1,end=\" \")\n",
    "        k+=1\n",
    "    print()\n",
    "    c+=1\n",
    "    i+=1"
   ]
  },
  {
   "cell_type": "code",
   "execution_count": 4,
   "metadata": {},
   "outputs": [
    {
     "name": "stdout",
     "output_type": "stream",
     "text": [
      "5 4 3 2 1 \n",
      "4 3 2 1 \n",
      "3 2 1 \n",
      "2 1 \n",
      "1 \n"
     ]
    }
   ],
   "source": [
    "\"\"\"\n",
    "5 4 3 2 1\n",
    "5 4 3 2\n",
    "5 4 3\n",
    "5 4\n",
    "5\n",
    "\"\"\"\n",
    "n = int(input(\"Enter a number: \"))\n",
    "i = n\n",
    "c = 0\n",
    "while(i>0):\n",
    "    j = n\n",
    "    while(j>(n-i)):\n",
    "        print(j-c,end=\" \")\n",
    "        j-=1\n",
    "    c+=1\n",
    "    print()\n",
    "    i-=1"
   ]
  },
  {
   "cell_type": "code",
   "execution_count": 5,
   "metadata": {},
   "outputs": [
    {
     "name": "stdout",
     "output_type": "stream",
     "text": [
      "5 \n",
      "5 4 \n",
      "5 4 3 \n",
      "5 4 3 2 \n",
      "5 4 3 2 1 \n"
     ]
    }
   ],
   "source": [
    "\"\"\"\n",
    "5\n",
    "5 4\n",
    "5 4 3\n",
    "5 4 3 2\n",
    "5 4 3 2 1\n",
    "\"\"\"\n",
    "n = int(input(\"Enter a number: \"))\n",
    "i = 1\n",
    "while(i<=n):\n",
    "    j = n\n",
    "    while(j>(n-i)):\n",
    "        print(j,end=\" \")\n",
    "        j-=1\n",
    "    print()\n",
    "    i+=1"
   ]
  },
  {
   "cell_type": "code",
   "execution_count": 6,
   "metadata": {},
   "outputs": [
    {
     "name": "stdout",
     "output_type": "stream",
     "text": [
      "1 \n",
      "1 2 \n",
      "1 2 3 \n",
      "1 2 3 4 \n",
      "1 2 3 4 5 \n",
      "1 2 3 4 5 6 \n",
      "1 2 3 4 5 6 7 \n"
     ]
    }
   ],
   "source": [
    "# Patterns\n",
    "\"\"\"\n",
    "1\n",
    "1 2\n",
    "1 2 3\n",
    "1 2 3 4\n",
    "1 2 3 4 5\n",
    "\"\"\"\n",
    "n=7\n",
    "i=1\n",
    "while(i<=n):\n",
    "    j=1\n",
    "    while(j<=i):\n",
    "        print(j,end=\" \")\n",
    "        j+=1\n",
    "    print()\n",
    "    i+=1"
   ]
  },
  {
   "cell_type": "code",
   "execution_count": 23,
   "metadata": {},
   "outputs": [
    {
     "name": "stdout",
     "output_type": "stream",
     "text": [
      "Factorial of 12 is 479001600\n"
     ]
    }
   ],
   "source": [
    "# Factorial of a number by using loops \n",
    "n=int(input(\"Enter a Number for factorial: \"))\n",
    "i=1\n",
    "prod=1\n",
    "if(n>0):\n",
    "    for i in range(1,n+1):\n",
    "        prod*=i\n",
    "    print(\"Factorial of\",n,\"is\",prod)\n",
    "else:\n",
    "    print(\"Invalid Number\")\n"
   ]
  },
  {
   "cell_type": "code",
   "execution_count": null,
   "metadata": {},
   "outputs": [],
   "source": [
    "n=int(input(\"Enter a Number : \"))\n",
    "i=1\n",
    "while(i<=n):\n",
    "    j=i\n",
    "    k=1\n",
    "    while(i>=1):\n",
    "        k=k*i\n",
    "        j=j-1\n",
    "    print(\"Factorial of\",i,\"is\",k)\n",
    "    i=i+1"
   ]
  },
  {
   "cell_type": "code",
   "execution_count": 30,
   "metadata": {},
   "outputs": [
    {
     "name": "stdout",
     "output_type": "stream",
     "text": [
      "234 is not an Armstrong Number.\n"
     ]
    }
   ],
   "source": [
    "# To check if the given number is Armstrong number or not by loops .\n",
    "n=int(input(\"Enter a Number : \"))\n",
    "sum=0\n",
    "temp=n\n",
    "order=len(str(n))\n",
    "while(temp>0):\n",
    "    digit=temp%10\n",
    "    sum+=digit**order\n",
    "    temp//=10\n",
    "if(n==sum):\n",
    "    print(n,\"is an Armstrong Number.\")\n",
    "else:\n",
    "    print(n,\"is not an Armstrong Number.\")\n",
    "    "
   ]
  },
  {
   "cell_type": "code",
   "execution_count": null,
   "metadata": {},
   "outputs": [
    {
     "name": "stdout",
     "output_type": "stream",
     "text": [
      "\n",
      "2 3 4 5 7 11 13 17 19 23 29 31 37 41 43 47 53 59 61 67 71 73 79 83 89 97 "
     ]
    }
   ],
   "source": [
    "# To check if the given number is prime or not by using loops .\n",
    "n=int(input(\"ENter a Number : \"))\n",
    "print()\n",
    "for i in range(n):\n",
    "    if(i == 0 or i == 1):\n",
    "        continue\n",
    "    prime = True\n",
    "    for j in range(i//2):\n",
    "        if(j == 0 or j == 1):\n",
    "            continue\n",
    "        if(i%j == 0):\n",
    "            prime = False\n",
    "    if(prime):\n",
    "        print(i,end=\" \")\n"
   ]
  },
  {
   "cell_type": "code",
   "execution_count": 40,
   "metadata": {},
   "outputs": [
    {
     "name": "stdout",
     "output_type": "stream",
     "text": [
      "1 is Armstrong.\n",
      "2 is Armstrong.\n",
      "3 is Armstrong.\n",
      "4 is Armstrong.\n",
      "5 is Armstrong.\n",
      "6 is Armstrong.\n",
      "7 is Armstrong.\n",
      "8 is Armstrong.\n",
      "9 is Armstrong.\n",
      "153 is Armstrong.\n"
     ]
    }
   ],
   "source": [
    "# To check if the given number is armtsrong or not (sir's solution)\n",
    "n=int(input(\"Enter a Number :\"))\n",
    "i=1\n",
    "while(i<=n):\n",
    "    d=len(str(i))\n",
    "    k=i\n",
    "    s=0\n",
    "    while(k>0):\n",
    "        r=k%10\n",
    "        s=s+r**d\n",
    "        k=k//10\n",
    "    if(i==s):\n",
    "        print(i,\"is Armstrong.\")\n",
    "    # else:\n",
    "    #     print(i,\"is not Armstrong.\")\n",
    "    i+=1"
   ]
  },
  {
   "cell_type": "code",
   "execution_count": 50,
   "metadata": {},
   "outputs": [
    {
     "name": "stdout",
     "output_type": "stream",
     "text": [
      "[2, 3, 4, 5, 6]\n",
      "[4, 6, 8, 10, 12]\n"
     ]
    }
   ],
   "source": [
    "# to make a list \n",
    "n=int(input(\"number of elements : \"))\n",
    "l=[]\n",
    "for i in range(n):\n",
    "    a=int(input(\"\"))\n",
    "    l.append(a)\n",
    "l1=[]\n",
    "for i in l :\n",
    "    l1.append(i*2)\n",
    "print(l)\n",
    "print(l1)\n"
   ]
  },
  {
   "cell_type": "code",
   "execution_count": 2,
   "metadata": {},
   "outputs": [
    {
     "name": "stdout",
     "output_type": "stream",
     "text": [
      "100\n"
     ]
    }
   ],
   "source": [
    "# variable length arguments \n",
    "\n",
    "def add(a,*b):\n",
    "    s = a\n",
    "    for i in b:\n",
    "        s+=i\n",
    "    return s\n",
    "print(add(10,20,30,40))"
   ]
  },
  {
   "cell_type": "code",
   "execution_count": null,
   "metadata": {},
   "outputs": [],
   "source": [
    " "
   ]
  }
 ],
 "metadata": {
  "kernelspec": {
   "display_name": "Python 3",
   "language": "python",
   "name": "python3"
  },
  "language_info": {
   "codemirror_mode": {
    "name": "ipython",
    "version": 3
   },
   "file_extension": ".py",
   "mimetype": "text/x-python",
   "name": "python",
   "nbconvert_exporter": "python",
   "pygments_lexer": "ipython3",
   "version": "3.12.4"
  }
 },
 "nbformat": 4,
 "nbformat_minor": 2
}
